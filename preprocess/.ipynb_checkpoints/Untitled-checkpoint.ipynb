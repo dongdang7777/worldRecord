{
 "cells": [
  {
   "cell_type": "code",
   "execution_count": 3,
   "id": "c409ac7b-9db3-4ca3-a598-233a2ea85122",
   "metadata": {},
   "outputs": [],
   "source": [
    "import pandas as pd"
   ]
  },
  {
   "cell_type": "code",
   "execution_count": 6,
   "id": "0e1f4710-f96d-424d-88b1-629f2cf405e7",
   "metadata": {},
   "outputs": [],
   "source": [
    "country=pd.read_csv(\"GlobalYearlyLandTempByCountry.csv\");\n",
    "city=pd.read_csv(\"GlobalYearlyLandTempByCity.csv\");\n",
    "state=pd.read_csv(\"GlobalYearlyTemp.csv\");\n",
    "population=pd.read_csv(\"Population.csv\");\n",
    "gl=pd.read_csv(\"GlobalYearlyLandTempByCountry.csv\");\n"
   ]
  },
  {
   "cell_type": "code",
   "execution_count": null,
   "id": "ad35c1ce-191d-41db-b394-d2087699f9a5",
   "metadata": {},
   "outputs": [],
   "source": []
  }
 ],
 "metadata": {
  "kernelspec": {
   "display_name": "Python 3 (ipykernel)",
   "language": "python",
   "name": "python3"
  },
  "language_info": {
   "codemirror_mode": {
    "name": "ipython",
    "version": 3
   },
   "file_extension": ".py",
   "mimetype": "text/x-python",
   "name": "python",
   "nbconvert_exporter": "python",
   "pygments_lexer": "ipython3",
   "version": "3.12.2"
  }
 },
 "nbformat": 4,
 "nbformat_minor": 5
}
